{
 "cells": [
  {
   "cell_type": "code",
   "execution_count": 1,
   "metadata": {},
   "outputs": [],
   "source": [
    "import re"
   ]
  },
  {
   "cell_type": "code",
   "execution_count": 2,
   "metadata": {},
   "outputs": [],
   "source": [
    "f = open(\"ratings.txt\",\"r\",encoding='utf8')\n",
    "text = []\n",
    "for num,line in enumerate(f.readlines()):\n",
    "    if num != 0:\n",
    "        line = line.split()\n",
    "        text.append(line[1])"
   ]
  },
  {
   "cell_type": "code",
   "execution_count": 3,
   "metadata": {},
   "outputs": [],
   "source": [
    "spec_sym = re.compile('[ㄱ-ㅣ가-힣a-zA-Z0-9\\s]')"
   ]
  },
  {
   "cell_type": "code",
   "execution_count": 6,
   "metadata": {},
   "outputs": [],
   "source": [
    "special = []\n",
    "for i in range(len(text)):\n",
    "    text[i] = re.sub(spec_sym,'',text[i])\n",
    "    for ch in text[i]:\n",
    "        special.append(ch)\n",
    "special = set(special)"
   ]
  },
  {
   "cell_type": "code",
   "execution_count": 7,
   "metadata": {},
   "outputs": [
    {
     "name": "stdout",
     "output_type": "stream",
     "text": [
      "{'+', 'シ', '`', '¿', '■', '◑', '^', '|', '♪', '典', ':', '用', 'パ', '面', '{', 'な', '’', '蛇', 'れ', '歌', '⊙', '□', '∇', '都', '頭', '÷', '人', '名', 'た', '☞', '，', ',', 'ガ', '舒', '禪', 'ろ', '離', '本', '師', '\"', '蟲', '様', '↖', '※', '喜', '後', '%', '大', '○', '淇', '無', '♥', 'っ', '庭', '紐', '}', '≥', '笑', '的', 'ヨ', '千', '錢', '候', 'ス', 'ⓒ', '出', 'ⓞ', '$', '特', '慧', '.', '急', '作', 'ダ', 'ウ', '@', '幸', 'そ', '＼', '尾', '<', 'タ', '蜀', 'せ', '惡', 'ら', '#', '⑦', '申', '\\\\', 'チ', '紅', 'ベ', 'を', '罪', '看', '◁', '私', '画', 'つ', '有', '高', '②', 'ㅤ', 'り', 'ほ', 'ロ', '定', '美', '】', 'し', '【', '會', '派', '好', 'わ', '小', 'む', '◎', '/', 'ⓛ', '異', '×', '▷', '《', '☜', '甲', '☆', '━', 'は', '∀', 'ゃ', '綠', '女', '＾', '張', '←', 'ム', 'ッ', '↗', '子', '」', 'ン', '頑', '★', 'ん', '盧', \"'\", '彼', '先', '力', '△', '旋', 'ル', '目', 'グ', '●', '-', '宋', '曲', 'ヒ', '(', '『', '⑹', '龍', 'づ', '氣', '!', '最', '‥', ';', '[', '！', 'エ', '韓', 'け', '常', '信', 'セ', 'す', '母', '式', '死', '山', '型', '&', '部', 'お', '~', '”', 'で', '¤', '‘', '映', 'ね', 'デ', 'ク', '…', '“', '◆', 'い', 'か', 'に', '↑', 'リ', '色', '▶', 'き', '→', '里', '。', '?', '非', '結', 'ぽ', 'ョ', '·', '見', '=', '祖', '♩', 'よ', '家', '↓', '演', '話', '♡', 'も', 'の', '中', '故', 'だ', '男', '者', 'う', 'こ', '♨', '年', '♧', '、', '不', 'と', '≤', '萬', '￣', 'π', '乃', '◐', '生', 'ワ', '◀', '①', 'ㆍ', '¡', '_', '林', '日', 'え', ']', ')', '>', '律', '言', '°', '塵', '低', '》', '▼', '白', '論', '凸', '┏', 'ま', '♬', 'ひ', 'が', '反', '濡', '*', '▽'}\n"
     ]
    }
   ],
   "source": [
    "print(special)"
   ]
  },
  {
   "cell_type": "code",
   "execution_count": null,
   "metadata": {},
   "outputs": [],
   "source": []
  }
 ],
 "metadata": {
  "kernelspec": {
   "display_name": "Python 3",
   "language": "python",
   "name": "python3"
  },
  "language_info": {
   "codemirror_mode": {
    "name": "ipython",
    "version": 3
   },
   "file_extension": ".py",
   "mimetype": "text/x-python",
   "name": "python",
   "nbconvert_exporter": "python",
   "pygments_lexer": "ipython3",
   "version": "3.6.8"
  }
 },
 "nbformat": 4,
 "nbformat_minor": 4
}
