{
 "cells": [
  {
   "cell_type": "code",
   "execution_count": 27,
   "metadata": {},
   "outputs": [
    {
     "data": {
      "text/plain": [
       "['안녕하세요', '저', '는', '정영석', '입니다', '.']"
      ]
     },
     "execution_count": 27,
     "metadata": {},
     "output_type": "execute_result"
    }
   ],
   "source": [
    "from konlpy.tag import Okt\n",
    "okt = Okt()\n",
    "okt.morphs(\"안녕하세요 저는 정영석입니다.\")"
   ]
  },
  {
   "cell_type": "code",
   "execution_count": 28,
   "metadata": {},
   "outputs": [],
   "source": [
    "texts = []\n",
    "f = open(\"ratings.txt\",'r',encoding='utf8')\n",
    "for num,line in enumerate(f.readlines()):\n",
    "    if num != 0:\n",
    "        line = line.split('\\t')\n",
    "        texts.append(line[1])"
   ]
  },
  {
   "cell_type": "code",
   "execution_count": 29,
   "metadata": {},
   "outputs": [],
   "source": [
    "for i in range(len(texts)):\n",
    "    texts[i] = okt.morphs(texts[i])"
   ]
  },
  {
   "cell_type": "code",
   "execution_count": 30,
   "metadata": {},
   "outputs": [],
   "source": [
    "word_set = set()\n",
    "for line in texts:\n",
    "    word_set.update(line)"
   ]
  },
  {
   "cell_type": "code",
   "execution_count": 31,
   "metadata": {},
   "outputs": [],
   "source": [
    "word_dic = {word : 0 for word in word_set}"
   ]
  },
  {
   "cell_type": "code",
   "execution_count": 32,
   "metadata": {},
   "outputs": [],
   "source": [
    "for i in range(len(texts)):\n",
    "    for word in texts[i]:\n",
    "        word_dic[word] += 1"
   ]
  },
  {
   "cell_type": "code",
   "execution_count": 33,
   "metadata": {},
   "outputs": [],
   "source": [
    "import operator\n",
    "word_dic = sorted(word_dic.items(),key = operator.itemgetter(1))"
   ]
  },
  {
   "cell_type": "code",
   "execution_count": 34,
   "metadata": {},
   "outputs": [
    {
     "name": "stdout",
     "output_type": "stream",
     "text": [
      "[('변치않고', 1), ('그렇다치는데', 1), ('쓰는데여', 1), ('대박가족', 1), ('노거', 1), ('서모', 1), ('넘웃곀', 1), ('번뜩임을', 1), ('떼우기', 1), ('식상해하다', 1), ('유치할거', 1), ('엿보', 1), ('어딧는데', 1), ('하고있겠지', 1), ('탔음', 1), ('어우러', 1), ('복잡해여', 1), ('말을말어', 1), ('괜춘해', 1), ('포만', 1), ('달라붙을', 1), ('굼뜬', 1), ('그린거고', 1), ('무서운거고', 1), ('남는것이', 1), ('아강', 1), ('내쉬래', 1), ('말을안하는데', 1), ('다닌것밖엔', 1), ('핏', 1), ('재미없자', 1), ('끌어가려는', 1), ('뜬건', 1), ('죽었어야지', 1), ('에티켓', 1), ('미안함이', 1), ('쉣임이', 1), ('낚아야', 1), ('범상한', 1), ('째인지', 1), ('울리는걸', 1), ('갇힌듯', 1), ('울리지마라', 1), ('만들려고하는데', 1), ('빠지는것', 1), ('날라가데', 1), ('11조', 1), ('멋지구요', 1), ('휘둘', 1), ('쩔구나', 1), ('없고아', 1), ('야하지조차', 1), ('엎는', 1), ('회환', 1), ('넘쳐나거나', 1), ('올람', 1), ('반하며', 1), ('그러닊', 1), ('삼갑시다', 1), ('잘리는데', 1), ('우유부단함에', 1), ('bitter', 1), ('말리겠나', 1), ('.http://mostfamousperson.net/', 1), ('아물에', 1), ('이쁘더라고요', 1), ('무덥고', 1), ('닛', 1), ('성식', 1), ('마리아치', 1), ('모히토', 1), ('보구있음', 1), ('내려오질', 1), ('달아도', 1), ('토착화', 1), ('아궁', 1), ('왔듯이', 1), ('전세홍', 1), ('비슷했으나', 1), ('선보이기', 1), ('그려지고', 1), ('작질하지마라', 1), ('뺄라고', 1), ('탈뫀', 1), ('고은님', 1), ('애쓰는것', 1), ('살아나나', 1), ('남겨줘야', 1), ('성공해도', 1), ('사현진', 1), ('느끼실수도', 1), ('떠오릴', 1), ('걸렸다니', 1), ('찍고있었네', 1), ('한서영', 1), ('들여와', 1), ('우월함을', 1), ('맞은거야', 1), ('없더라고요', 1), ('느낌인거지', 1)]\n"
     ]
    }
   ],
   "source": [
    "print(word_dic[:100])"
   ]
  },
  {
   "cell_type": "code",
   "execution_count": null,
   "metadata": {},
   "outputs": [],
   "source": []
  }
 ],
 "metadata": {
  "kernelspec": {
   "display_name": "Python 3",
   "language": "python",
   "name": "python3"
  },
  "language_info": {
   "codemirror_mode": {
    "name": "ipython",
    "version": 3
   },
   "file_extension": ".py",
   "mimetype": "text/x-python",
   "name": "python",
   "nbconvert_exporter": "python",
   "pygments_lexer": "ipython3",
   "version": "3.6.8"
  }
 },
 "nbformat": 4,
 "nbformat_minor": 4
}
