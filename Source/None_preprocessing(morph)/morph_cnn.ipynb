{
 "cells": [
  {
   "cell_type": "code",
   "execution_count": null,
   "metadata": {
    "colab": {
     "base_uri": "https://localhost:8080/",
     "height": 178
    },
    "colab_type": "code",
    "id": "3UqysabdWJMq",
    "outputId": "3379b08c-aab5-4359-b1bd-265cf0dbccee"
   },
   "outputs": [
    {
     "name": "stdout",
     "output_type": "stream",
     "text": [
      "Collecting konlpy\n",
      "\u001b[?25l  Downloading https://files.pythonhosted.org/packages/e5/3d/4e983cd98d87b50b2ab0387d73fa946f745aa8164e8888a714d5129f9765/konlpy-0.5.1-py2.py3-none-any.whl (19.4MB)\n",
      "\u001b[K     |████████████████████████████████| 19.4MB 6.4MB/s \n",
      "\u001b[?25hCollecting JPype1>=0.5.7 (from konlpy)\n",
      "\u001b[?25l  Downloading https://files.pythonhosted.org/packages/07/09/e19ce27d41d4f66d73ac5b6c6a188c51b506f56c7bfbe6c1491db2d15995/JPype1-0.7.0-cp36-cp36m-manylinux2010_x86_64.whl (2.7MB)\n",
      "\u001b[K     |████████████████████████████████| 2.7MB 37.5MB/s \n",
      "\u001b[?25hInstalling collected packages: JPype1, konlpy\n",
      "Successfully installed JPype1-0.7.0 konlpy-0.5.1\n"
     ]
    }
   ],
   "source": [
    "pip install konlpy"
   ]
  },
  {
   "cell_type": "code",
   "execution_count": null,
   "metadata": {
    "colab": {
     "base_uri": "https://localhost:8080/",
     "height": 194
    },
    "colab_type": "code",
    "id": "gmbGyP-ck-Br",
    "outputId": "a772f64e-b828-447b-bb48-12506a648d2a"
   },
   "outputs": [
    {
     "name": "stderr",
     "output_type": "stream",
     "text": [
      "/usr/local/lib/python3.6/dist-packages/jpype/_core.py:210: UserWarning: \n",
      "-------------------------------------------------------------------------------\n",
      "Deprecated: convertStrings was not specified when starting the JVM. The default\n",
      "behavior in JPype will be False starting in JPype 0.8. The recommended setting\n",
      "for new code is convertStrings=False.  The legacy value of True was assumed for\n",
      "this session. If you are a user of an application that reported this warning,\n",
      "please file a ticket with the developer.\n",
      "-------------------------------------------------------------------------------\n",
      "\n",
      "  \"\"\")\n"
     ]
    }
   ],
   "source": [
    "string = []\n",
    "tag = []\n",
    "with open(\"./ratings_train.txt\",'r',encoding='utf-8-sig') as f:\n",
    "    cnt = 0\n",
    "    for line in f.readlines():\n",
    "        if cnt == 0:\n",
    "            pass\n",
    "        else:\n",
    "            line = line.split('\\t')\n",
    "            string.append(line[1])\n",
    "            tag.append(int(line[2][0]))\n",
    "        cnt += 1\n",
    "\n",
    "from konlpy.tag import Okt\n",
    "twitter = Okt()\n",
    "\n",
    "string_morphs = []\n",
    "string_char = []\n",
    "\n",
    "max_morph_len = 0\n",
    "\n",
    "morph_set = set()\n",
    "for line in string:\n",
    "    morph = twitter.pos(line)\n",
    "    morphs = []\n",
    "    for mor in morph:\n",
    "        if mor[1] != \"Josa\":\n",
    "            morphs.append(mor[0])\n",
    "    string_morphs.append(morphs)\n",
    "    max_morph_len = max_morph_len if max_morph_len > len(morphs) else len(morphs)\n",
    "    morph_set.update(morphs)"
   ]
  },
  {
   "cell_type": "code",
   "execution_count": null,
   "metadata": {
    "colab": {
     "base_uri": "https://localhost:8080/",
     "height": 34
    },
    "colab_type": "code",
    "id": "18Q7N6Pi2SVF",
    "outputId": "3b20b861-227d-4d25-a925-cd655dbdde6f"
   },
   "outputs": [
    {
     "name": "stderr",
     "output_type": "stream",
     "text": [
      "Using TensorFlow backend.\n"
     ]
    }
   ],
   "source": [
    "input_morph = []\n",
    "\n",
    "morph_set = list(['<p>']) + list(morph_set)\n",
    "morph_set = {morph:index for index,morph in enumerate(morph_set)}\n",
    "for line in string_morphs:\n",
    "    morph = [morph_set[mor] for mor in line]\n",
    "    input_morph.append(morph)\n",
    "from keras.preprocessing.sequence import pad_sequences\n",
    "input_morph = pad_sequences(input_morph ,padding = 'post'\n",
    "    , maxlen = max_morph_len)\n",
    "\n",
    "from keras.utils import to_categorical\n",
    "tag = to_categorical(tag)\n",
    "\n",
    "from sklearn.model_selection import train_test_split\n",
    "input_morph_train,input_morph_val,tag_train,tag_val = train_test_split(input_morph,tag,test_size = 0.1)"
   ]
  },
  {
   "cell_type": "code",
   "execution_count": null,
   "metadata": {
    "colab": {
     "base_uri": "https://localhost:8080/",
     "height": 267
    },
    "colab_type": "code",
    "id": "BbmZxsko2ZdO",
    "outputId": "5e6249b3-7c00-4273-8e4d-a87913d26438"
   },
   "outputs": [
    {
     "name": "stdout",
     "output_type": "stream",
     "text": [
      "WARNING:tensorflow:From /usr/local/lib/python3.6/dist-packages/keras/backend/tensorflow_backend.py:66: The name tf.get_default_graph is deprecated. Please use tf.compat.v1.get_default_graph instead.\n",
      "\n",
      "WARNING:tensorflow:From /usr/local/lib/python3.6/dist-packages/keras/backend/tensorflow_backend.py:541: The name tf.placeholder is deprecated. Please use tf.compat.v1.placeholder instead.\n",
      "\n",
      "WARNING:tensorflow:From /usr/local/lib/python3.6/dist-packages/keras/backend/tensorflow_backend.py:4432: The name tf.random_uniform is deprecated. Please use tf.random.uniform instead.\n",
      "\n",
      "WARNING:tensorflow:From /usr/local/lib/python3.6/dist-packages/keras/optimizers.py:793: The name tf.train.Optimizer is deprecated. Please use tf.compat.v1.train.Optimizer instead.\n",
      "\n",
      "WARNING:tensorflow:From /usr/local/lib/python3.6/dist-packages/keras/backend/tensorflow_backend.py:3657: The name tf.log is deprecated. Please use tf.math.log instead.\n",
      "\n",
      "WARNING:tensorflow:From /usr/local/lib/python3.6/dist-packages/tensorflow/python/ops/nn_impl.py:180: add_dispatch_support.<locals>.wrapper (from tensorflow.python.ops.array_ops) is deprecated and will be removed in a future version.\n",
      "Instructions for updating:\n",
      "Use tf.where in 2.0, which has the same broadcast rule as np.where\n"
     ]
    }
   ],
   "source": [
    "from keras.layers import Input, Dense, LSTM,Conv1D,Embedding,Reshape,GlobalMaxPooling1D,Flatten\n",
    "from keras.models import Model\n",
    "\n",
    "input_morph = Input((max_morph_len,))\n",
    "embed_output = Embedding(len(morph_set),\n",
    "                         100)(input_morph)\n",
    "cnn_output = Conv1D(32,kernel_size = 3,activation = 'relu')(lstm_output)\n",
    "cnn_pool = GlobalMaxPooling1D()(cnn_output)\n",
    "output = Dense(2,activation = 'softmax')(cnn_pool)\n",
    "model = Model([input_morph],output)\n",
    "model.compile(loss = 'binary_crossentropy',optimizer = 'adam',metrics = ['accuracy'])"
   ]
  },
  {
   "cell_type": "code",
   "execution_count": null,
   "metadata": {
    "colab": {
     "base_uri": "https://localhost:8080/",
     "height": 178
    },
    "colab_type": "code",
    "id": "9ooHEkRk3SM7",
    "outputId": "2f277302-fd72-441b-df68-6be244362e2c"
   },
   "outputs": [
    {
     "name": "stdout",
     "output_type": "stream",
     "text": [
      "WARNING:tensorflow:From /usr/local/lib/python3.6/dist-packages/keras/backend/tensorflow_backend.py:1033: The name tf.assign_add is deprecated. Please use tf.compat.v1.assign_add instead.\n",
      "\n",
      "Train on 135000 samples, validate on 15000 samples\n",
      "Epoch 1/10\n",
      "135000/135000 [==============================] - 113s 835us/step - loss: 0.3841 - acc: 0.8248 - val_loss: 0.3282 - val_acc: 0.8563\n",
      "Epoch 2/10\n",
      "135000/135000 [==============================] - 110s 812us/step - loss: 0.2318 - acc: 0.9072 - val_loss: 0.3445 - val_acc: 0.8558\n"
     ]
    },
    {
     "data": {
      "text/plain": [
       "<keras.callbacks.History at 0x7f1a28d847b8>"
      ]
     },
     "execution_count": 4,
     "metadata": {
      "tags": []
     },
     "output_type": "execute_result"
    }
   ],
   "source": [
    "import keras\n",
    "\n",
    "callbacks = [keras.callbacks.EarlyStopping(monitor='val_loss',\n",
    "                                           patience=1)]\n",
    "model.fit(input_morph_train,tag_train,\n",
    "         epochs = 10,\n",
    "         batch_size = 256,\n",
    "         validation_data = (input_morph_val,tag_val),\n",
    "         callbacks = callbacks\n",
    "         )"
   ]
  },
  {
   "cell_type": "code",
   "execution_count": null,
   "metadata": {
    "colab": {},
    "colab_type": "code",
    "id": "JJRlDyJb5FBt"
   },
   "outputs": [],
   "source": [
    "test_labels = []\n",
    "test_strings = []\n",
    "with open('./ratings_test.txt','r',encoding='utf-8-sig') as f:\n",
    "    cnt = 0\n",
    "    for line in f.readlines():\n",
    "        if cnt ==0:\n",
    "            pass\n",
    "        else:\n",
    "            line = line.split('\\t')\n",
    "            test_label = int(line[2][0])\n",
    "            test_strings.append(line[1])\n",
    "            test_labels.append(test_label)\n",
    "        cnt +=1\n",
    "test_morph = []\n",
    "for line in test_strings:\n",
    "    morph = twitter.pos(line)\n",
    "    morphs = []\n",
    "    for mor in morph:\n",
    "        if mor[1] != 'Josa':\n",
    "            morphs.append(mor[0])\n",
    "    step_morph = [morph_set[m] if m in morph_set else 0 for m in morphs]\n",
    "    test_morph.append(step_morph)\n",
    "\n",
    "test_morph = pad_sequences(test_morph,padding = 'post',maxlen = max_morph_len)"
   ]
  },
  {
   "cell_type": "code",
   "execution_count": null,
   "metadata": {
    "colab": {
     "base_uri": "https://localhost:8080/",
     "height": 52
    },
    "colab_type": "code",
    "id": "lTQSKPOZ5K73",
    "outputId": "40d61115-2497-4727-86a4-05030a22e408"
   },
   "outputs": [
    {
     "name": "stdout",
     "output_type": "stream",
     "text": [
      "50000/50000 [==============================] - 112s 2ms/step\n",
      "[0.3492832522153854, 0.8527]\n"
     ]
    }
   ],
   "source": [
    "point = model.evaluate([test_morph],test_labels)\n",
    "print(point)"
   ]
  }
 ],
 "metadata": {
  "accelerator": "GPU",
  "colab": {
   "name": "morph_cnn.ipynb",
   "provenance": []
  },
  "kernelspec": {
   "display_name": "Python 3",
   "language": "python",
   "name": "python3"
  },
  "language_info": {
   "codemirror_mode": {
    "name": "ipython",
    "version": 3
   },
   "file_extension": ".py",
   "mimetype": "text/x-python",
   "name": "python",
   "nbconvert_exporter": "python",
   "pygments_lexer": "ipython3",
   "version": "3.6.8"
  }
 },
 "nbformat": 4,
 "nbformat_minor": 4
}
