{
 "cells": [
  {
   "cell_type": "code",
   "execution_count": null,
   "metadata": {
    "colab": {
     "base_uri": "https://localhost:8080/",
     "height": 161
    },
    "colab_type": "code",
    "id": "0EZ2PZsHgwbQ",
    "outputId": "0fdfe0a1-b05b-480c-c662-b93433a4d764"
   },
   "outputs": [],
   "source": [
    "pip install konlpy"
   ]
  },
  {
   "cell_type": "code",
   "execution_count": null,
   "metadata": {
    "colab": {},
    "colab_type": "code",
    "id": "fBwUpAg2hEiD"
   },
   "outputs": [],
   "source": [
    "string = []\n",
    "tag = []\n",
    "with open(\"./drive/My Drive/ratings_train.txt\",'r',encoding='utf-8-sig') as f:\n",
    "    cnt = 0\n",
    "    for line in f.readlines():\n",
    "        if cnt == 0:\n",
    "            pass\n",
    "        else:\n",
    "            line = line.split('\\t')\n",
    "            string.append(line[1])\n",
    "            tag.append(int(line[2][0]))\n",
    "        cnt += 1\n",
    "\n",
    "from konlpy.tag import Okt\n",
    "twitter = Okt()\n",
    "\n",
    "string_morphs = []\n",
    "string_char = []\n",
    "\n",
    "max_morph_len = 0\n",
    "\n",
    "morph_set = set()"
   ]
  },
  {
   "cell_type": "code",
   "execution_count": null,
   "metadata": {
    "colab": {},
    "colab_type": "code",
    "id": "Y723pidBwvtv"
   },
   "outputs": [],
   "source": [
    "\n",
    "from keras.preprocessing.sequence import pad_sequences\n",
    "cnt = 0\n",
    "string_morphs = []\n",
    "for line in string:\n",
    "    morph = twitter.morphs(line)\n",
    "    max_morph_len = max_morph_len if max_morph_len > len(morph) else len(morph)\n",
    "    string_morphs.append(morph)\n",
    "    morph_set.update(morph)\n",
    "\n",
    "input_morph = []\n",
    "\n",
    "morph_set = list(['<p>']) + list(morph_set)\n",
    "morph_set = {mor:index for index,mor in enumerate(morph_set)}"
   ]
  },
  {
   "cell_type": "code",
   "execution_count": null,
   "metadata": {
    "colab": {},
    "colab_type": "code",
    "id": "-krLnqlhvo7u"
   },
   "outputs": [],
   "source": [
    "for line in string_morphs:\n",
    "    morph = [morph_set[mor] for mor in line]\n",
    "    input_morph.append(morph)\n",
    "input_morph = pad_sequences(input_morph ,padding = 'post'\n",
    "    , maxlen = max_morph_len)\n",
    "\n",
    "from keras.utils import to_categorical\n",
    "tag = to_categorical(tag)\n",
    "from sklearn.metrics import f1_score\n",
    "from sklearn.model_selection import train_test_split\n",
    "input_morph_train,input_morph_val,tag_train,tag_val = train_test_split(input_morph,tag,test_size = 0.1,random_state = 1)"
   ]
  },
  {
   "cell_type": "code",
   "execution_count": null,
   "metadata": {
    "colab": {},
    "colab_type": "code",
    "id": "cnvid6Q1JPMb"
   },
   "outputs": [],
   "source": [
    "from keras import backend as K\n",
    "def recall(y_target, y_pred):\n",
    "    y_target_yn = K.round(K.clip(y_target, 0, 1)) # 실제값을 0(Negative) 또는 1(Positive)로 설정한다\n",
    "    y_pred_yn = K.round(K.clip(y_pred, 0, 1)) # 예측값을 0(Negative) 또는 1(Positive)로 설정한다\n",
    "\n",
    "    count_true_positive = K.sum(y_target_yn * y_pred_yn) \n",
    "\n",
    "    count_true_positive_false_negative = K.sum(y_target_yn)\n",
    "\n",
    "    recall = count_true_positive / (count_true_positive_false_negative + K.epsilon())\n",
    "    return recall\n",
    "\n",
    "\n",
    "def precision(y_target, y_pred):\n",
    "    y_pred_yn = K.round(K.clip(y_pred, 0, 1)) # 예측값을 0(Negative) 또는 1(Positive)로 설정한다\n",
    "    y_target_yn = K.round(K.clip(y_target, 0, 1)) # 실제값을 0(Negative) 또는 1(Positive)로 설정한다\n",
    "    count_true_positive = K.sum(y_target_yn * y_pred_yn) \n",
    "    count_true_positive_false_positive = K.sum(y_pred_yn)\n",
    "    precision = count_true_positive / (count_true_positive_false_positive + K.epsilon())\n",
    "    return precision\n",
    "\n",
    "def f1score(y_target, y_pred):\n",
    "    _recall = recall(y_target, y_pred)\n",
    "    _precision = precision(y_target, y_pred)\n",
    "    # K.epsilon()는 'divide by zero error' 예방차원에서 작은 수를 더한다\n",
    "    _f1score = ( 2 * _recall * _precision) / (_recall + _precision+ K.epsilon())\n",
    "    \n",
    "    # return a single tensor value\n",
    "    return _f1score"
   ]
  },
  {
   "cell_type": "code",
   "execution_count": null,
   "metadata": {
    "colab": {},
    "colab_type": "code",
    "id": "4gAW5AyhiEl5"
   },
   "outputs": [],
   "source": [
    "from keras.layers import Input, Dense, LSTM,Conv1D,Embedding,Reshape,GlobalMaxPooling2D,Flatten\n",
    "from keras.models import Model\n",
    "input_morph = Input((max_morph_len,))\n",
    "embed_output = Embedding(len(morph_set),\n",
    "                         100)(input_morph)\n",
    "lstm_output = LSTM(128,return_sequences = True)(embed_output)\n",
    "embed_output = Reshape((max_morph_len,128,1))(lstm_output)\n",
    "cnn_output = Conv1D(32,kernel_size = 3,activation = 'relu')(embed_output)\n",
    "cnn_pool = GlobalMaxPooling1D(data_format='channels_last')(cnn_output)\n",
    "output = Dense(2,activation = 'softmax')(cnn_pool)\n",
    "model = Model([input_morph],output)\n",
    "model.compile(loss = 'binary_crossentropy',optimizer = 'adam',metrics = ['accuracy',f1score])"
   ]
  },
  {
   "cell_type": "code",
   "execution_count": null,
   "metadata": {
    "colab": {},
    "colab_type": "code",
    "id": "suRBBj6Vjfb3"
   },
   "outputs": [],
   "source": [
    "import keras\n",
    "callbacks = [keras.callbacks.EarlyStopping(monitor='val_loss',\n",
    "                                           patience=1)]\n",
    "\n",
    "model.fit(input_morph_train,tag_train,\n",
    "         epochs = 10,\n",
    "         callbacks = callbacks,\n",
    "         batch_size = 256,\n",
    "         validation_data = (input_morph_val,tag_val))"
   ]
  },
  {
   "cell_type": "code",
   "execution_count": null,
   "metadata": {
    "colab": {},
    "colab_type": "code",
    "id": "-kMPsxXUkHlY"
   },
   "outputs": [],
   "source": [
    "test_strings = []\n",
    "test_labels = []\n",
    "with open('./drive/My Drive/ratings_test.txt','r',encoding='utf-8-sig') as f:\n",
    "    cnt = 0\n",
    "    for line in f.readlines():\n",
    "        if cnt ==0:\n",
    "            pass\n",
    "    else:\n",
    "        line = line.split('\\t')\n",
    "        test_label = int(line[2][0])\n",
    "        test_strings.append(line[1])\n",
    "        test_labels.append(test_label)\n",
    "    cnt +=1\n",
    "test_morph = []\n",
    "test_char = []\n",
    "for line in test_strings:\n",
    "#   morph = ''\n",
    "#   for mor in line:\n",
    "#     if mor not in stop_word:\n",
    "#       morph += mor\n",
    "    morph = twitter.morphs(line)\n",
    "    morph = [morph_set[mor] if mor in morph_set else 0 for mor in morph]\n",
    "    test_morph.append(morph)\n",
    "\n",
    "test_morph = pad_sequences(test_morph,padding = 'post',maxlen = max_morph_len)\n",
    "# test_char = pad_sequences(test_char,padding = 'post',maxlen = max_char_len)\n",
    "\n",
    "test_label = to_categorical(test_labels)\n"
   ]
  },
  {
   "cell_type": "code",
   "execution_count": null,
   "metadata": {
    "colab": {},
    "colab_type": "code",
    "id": "JFNDaW6RwJYS"
   },
   "outputs": [],
   "source": [
    "from sklearn.metrics import f1_score \n",
    "point = model.evaluate([test_morph],test_labels)\n",
    "predicted = np.argmax(model.predict(test_morph),axis = 1)\n",
    "f1_score(predicted,test_labels)"
   ]
  }
 ],
 "metadata": {
  "kernelspec": {
   "display_name": "Python 3",
   "language": "python",
   "name": "python3"
  },
  "language_info": {
   "codemirror_mode": {
    "name": "ipython",
    "version": 3
   },
   "file_extension": ".py",
   "mimetype": "text/x-python",
   "name": "python",
   "nbconvert_exporter": "python",
   "pygments_lexer": "ipython3",
   "version": "3.6.8"
  }
 },
 "nbformat": 4,
 "nbformat_minor": 4
}
